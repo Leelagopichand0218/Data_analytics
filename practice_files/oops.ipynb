{
 "cells": [
  {
   "cell_type": "code",
   "execution_count": 1,
   "metadata": {},
   "outputs": [],
   "source": [
    "def person():\n",
    "    pass"
   ]
  },
  {
   "cell_type": "code",
   "execution_count": 3,
   "metadata": {},
   "outputs": [],
   "source": [
    "class Person:\n",
    "    pass"
   ]
  },
  {
   "cell_type": "code",
   "execution_count": 4,
   "metadata": {},
   "outputs": [],
   "source": [
    "p1=Person()"
   ]
  },
  {
   "cell_type": "code",
   "execution_count": 2,
   "metadata": {},
   "outputs": [
    {
     "name": "stdout",
     "output_type": "stream",
     "text": [
      "this is person class\n"
     ]
    }
   ],
   "source": [
    "class Person:\n",
    "    print(\"this is person class\")\n",
    "    name = \"Gopichand\""
   ]
  },
  {
   "cell_type": "code",
   "execution_count": 3,
   "metadata": {},
   "outputs": [],
   "source": [
    "p1=Person()"
   ]
  },
  {
   "cell_type": "code",
   "execution_count": 4,
   "metadata": {},
   "outputs": [
    {
     "data": {
      "text/plain": [
       "'Gopichand'"
      ]
     },
     "execution_count": 4,
     "metadata": {},
     "output_type": "execute_result"
    }
   ],
   "source": [
    "p1.name"
   ]
  },
  {
   "cell_type": "code",
   "execution_count": 18,
   "metadata": {},
   "outputs": [
    {
     "name": "stdout",
     "output_type": "stream",
     "text": [
      "10\n",
      "Gopichand\n"
     ]
    }
   ],
   "source": [
    "a=10\n",
    "print(a)\n",
    "print(p1.name)"
   ]
  },
  {
   "cell_type": "code",
   "execution_count": 24,
   "metadata": {},
   "outputs": [],
   "source": [
    "def function_name(parameter1,parameter2):\n",
    "    pass"
   ]
  },
  {
   "cell_type": "code",
   "execution_count": 25,
   "metadata": {},
   "outputs": [],
   "source": [
    "class ClassName:\n",
    "    pass"
   ]
  },
  {
   "cell_type": "code",
   "execution_count": 26,
   "metadata": {},
   "outputs": [],
   "source": [
    "class Person:\n",
    "    pass"
   ]
  },
  {
   "cell_type": "code",
   "execution_count": 27,
   "metadata": {},
   "outputs": [
    {
     "data": {
      "text/plain": [
       "<__main__.Person at 0x187271d70e0>"
      ]
     },
     "execution_count": 27,
     "metadata": {},
     "output_type": "execute_result"
    }
   ],
   "source": [
    "Person()"
   ]
  },
  {
   "cell_type": "code",
   "execution_count": 31,
   "metadata": {},
   "outputs": [],
   "source": [
    "p2=Person()"
   ]
  },
  {
   "cell_type": "code",
   "execution_count": 33,
   "metadata": {},
   "outputs": [
    {
     "data": {
      "text/plain": [
       "__main__.Person"
      ]
     },
     "execution_count": 33,
     "metadata": {},
     "output_type": "execute_result"
    }
   ],
   "source": [
    "type(p2)"
   ]
  },
  {
   "cell_type": "code",
   "execution_count": 43,
   "metadata": {},
   "outputs": [],
   "source": [
    "class  Person:\n",
    "    def __init__(self):\n",
    "        print(\"this is inside __inti__ constructor\")\n",
    "        self.name=\"Gopichand\"\n",
    "        id=2"
   ]
  },
  {
   "cell_type": "code",
   "execution_count": 44,
   "metadata": {},
   "outputs": [
    {
     "name": "stdout",
     "output_type": "stream",
     "text": [
      "this is inside __inti__ constructor\n"
     ]
    }
   ],
   "source": [
    "p2=Person()"
   ]
  },
  {
   "cell_type": "code",
   "execution_count": 45,
   "metadata": {},
   "outputs": [
    {
     "name": "stdout",
     "output_type": "stream",
     "text": [
      "p2.__class__\n",
      "p2.__delattr__\n",
      "p2.__dict__\n",
      "p2.__dir__\n",
      "p2.__doc__\n",
      "p2.__eq__\n",
      "p2.__firstlineno__\n",
      "p2.__format__\n",
      "p2.__ge__\n",
      "p2.__getattribute__\n",
      "p2.__getstate__\n",
      "p2.__gt__\n",
      "p2.__hash__\n",
      "p2.__init__\n",
      "p2.__init_subclass__\n",
      "p2.__le__\n",
      "p2.__lt__\n",
      "p2.__module__\n",
      "p2.__ne__\n",
      "p2.__new__\n",
      "p2.__reduce__\n",
      "p2.__reduce_ex__\n",
      "p2.__repr__\n",
      "p2.__setattr__\n",
      "p2.__sizeof__\n",
      "p2.__static_attributes__\n",
      "p2.__str__\n",
      "p2.__subclasshook__\n",
      "p2.__weakref__\n",
      "p2.name"
     ]
    }
   ],
   "source": [
    "p2.*?"
   ]
  },
  {
   "cell_type": "code",
   "execution_count": 55,
   "metadata": {},
   "outputs": [],
   "source": [
    "class Person:\n",
    "    def __init__(self):\n",
    "        print(\"This is inside __init__ constructor\")\n",
    "        self.name = \"Gopichand\"\n",
    "        self.id = 12"
   ]
  },
  {
   "cell_type": "code",
   "execution_count": 56,
   "metadata": {},
   "outputs": [
    {
     "name": "stdout",
     "output_type": "stream",
     "text": [
      "This is inside __init__ constructor\n"
     ]
    }
   ],
   "source": [
    "p2 = Person()"
   ]
  },
  {
   "cell_type": "code",
   "execution_count": 57,
   "metadata": {},
   "outputs": [
    {
     "name": "stdout",
     "output_type": "stream",
     "text": [
      "p2.__class__\n",
      "p2.__delattr__\n",
      "p2.__dict__\n",
      "p2.__dir__\n",
      "p2.__doc__\n",
      "p2.__eq__\n",
      "p2.__firstlineno__\n",
      "p2.__format__\n",
      "p2.__ge__\n",
      "p2.__getattribute__\n",
      "p2.__getstate__\n",
      "p2.__gt__\n",
      "p2.__hash__\n",
      "p2.__init__\n",
      "p2.__init_subclass__\n",
      "p2.__le__\n",
      "p2.__lt__\n",
      "p2.__module__\n",
      "p2.__ne__\n",
      "p2.__new__\n",
      "p2.__reduce__\n",
      "p2.__reduce_ex__\n",
      "p2.__repr__\n",
      "p2.__setattr__\n",
      "p2.__sizeof__\n",
      "p2.__static_attributes__\n",
      "p2.__str__\n",
      "p2.__subclasshook__\n",
      "p2.__weakref__\n",
      "p2.id\n",
      "p2.name"
     ]
    }
   ],
   "source": [
    "p2.*?"
   ]
  },
  {
   "cell_type": "code",
   "execution_count": 59,
   "metadata": {},
   "outputs": [
    {
     "data": {
      "text/plain": [
       "'Gopichand'"
      ]
     },
     "execution_count": 59,
     "metadata": {},
     "output_type": "execute_result"
    }
   ],
   "source": [
    "p2.name"
   ]
  },
  {
   "cell_type": "code",
   "execution_count": 58,
   "metadata": {},
   "outputs": [
    {
     "data": {
      "text/plain": [
       "12"
      ]
     },
     "execution_count": 58,
     "metadata": {},
     "output_type": "execute_result"
    }
   ],
   "source": [
    "p2.id"
   ]
  },
  {
   "cell_type": "code",
   "execution_count": 72,
   "metadata": {},
   "outputs": [],
   "source": [
    "class Person:\n",
    "    def __init__(self):\n",
    "        name=\"Gopichand\"\n",
    "        id=18\n",
    "        print(f\"name:{name},id:{id}\")\n",
    "\n",
    "#End of person class"
   ]
  },
  {
   "cell_type": "code",
   "execution_count": 73,
   "metadata": {},
   "outputs": [
    {
     "name": "stdout",
     "output_type": "stream",
     "text": [
      "name:Gopichand,id:18\n"
     ]
    }
   ],
   "source": [
    "p2=Person()"
   ]
  },
  {
   "cell_type": "code",
   "execution_count": 75,
   "metadata": {},
   "outputs": [
    {
     "name": "stdout",
     "output_type": "stream",
     "text": [
      "p2.__class__\n",
      "p2.__delattr__\n",
      "p2.__dict__\n",
      "p2.__dir__\n",
      "p2.__doc__\n",
      "p2.__eq__\n",
      "p2.__firstlineno__\n",
      "p2.__format__\n",
      "p2.__ge__\n",
      "p2.__getattribute__\n",
      "p2.__getstate__\n",
      "p2.__gt__\n",
      "p2.__hash__\n",
      "p2.__init__\n",
      "p2.__init_subclass__\n",
      "p2.__le__\n",
      "p2.__lt__\n",
      "p2.__module__\n",
      "p2.__ne__\n",
      "p2.__new__\n",
      "p2.__reduce__\n",
      "p2.__reduce_ex__\n",
      "p2.__repr__\n",
      "p2.__setattr__\n",
      "p2.__sizeof__\n",
      "p2.__static_attributes__\n",
      "p2.__str__\n",
      "p2.__subclasshook__\n",
      "p2.__weakref__"
     ]
    }
   ],
   "source": [
    "p2.*?"
   ]
  },
  {
   "cell_type": "code",
   "execution_count": 81,
   "metadata": {},
   "outputs": [],
   "source": [
    "class Person:\n",
    "    def __init__(self):\n",
    "        first_name = \"Gopichand\"\n",
    "        last_name = \"P\"\n",
    "        age = 0\n",
    "        mobile = \"9988554455\"\n",
    "        print(f\"first_name: {first_name} last_name: {last_name}\")\n",
    "        print(f\"age: {age} mobile: {mobile}\")\n",
    "# End of Person Class"
   ]
  },
  {
   "cell_type": "code",
   "execution_count": 82,
   "metadata": {},
   "outputs": [
    {
     "name": "stdout",
     "output_type": "stream",
     "text": [
      "first_name: Gopichand last_name: P\n",
      "age: 0 mobile: 9988554455\n"
     ]
    }
   ],
   "source": [
    "p3=Person()"
   ]
  },
  {
   "cell_type": "code",
   "execution_count": 83,
   "metadata": {},
   "outputs": [
    {
     "name": "stdout",
     "output_type": "stream",
     "text": [
      "p3.__class__\n",
      "p3.__delattr__\n",
      "p3.__dict__\n",
      "p3.__dir__\n",
      "p3.__doc__\n",
      "p3.__eq__\n",
      "p3.__firstlineno__\n",
      "p3.__format__\n",
      "p3.__ge__\n",
      "p3.__getattribute__\n",
      "p3.__getstate__\n",
      "p3.__gt__\n",
      "p3.__hash__\n",
      "p3.__init__\n",
      "p3.__init_subclass__\n",
      "p3.__le__\n",
      "p3.__lt__\n",
      "p3.__module__\n",
      "p3.__ne__\n",
      "p3.__new__\n",
      "p3.__reduce__\n",
      "p3.__reduce_ex__\n",
      "p3.__repr__\n",
      "p3.__setattr__\n",
      "p3.__sizeof__\n",
      "p3.__static_attributes__\n",
      "p3.__str__\n",
      "p3.__subclasshook__\n",
      "p3.__weakref__"
     ]
    }
   ],
   "source": [
    "p3.*?"
   ]
  },
  {
   "cell_type": "code",
   "execution_count": 86,
   "metadata": {},
   "outputs": [],
   "source": [
    "class Person:\n",
    "    def __init__(self):\n",
    "        self.first_name = \"Gopichand\"\n",
    "        self.last_name = \"P\"\n",
    "        self.age = 22\n",
    "        self.mobile = \"9988554488\"\n",
    "        print(f\"first_name: {self.first_name} last_name: {self.last_name}\")\n",
    "        print(f\"age: {self.age} mobile: {self.mobile}\")\n",
    "# End of Person Class"
   ]
  },
  {
   "cell_type": "code",
   "execution_count": 87,
   "metadata": {},
   "outputs": [
    {
     "name": "stdout",
     "output_type": "stream",
     "text": [
      "first_name: Gopichand last_name: P\n",
      "age: 22 mobile: 9988554488\n"
     ]
    }
   ],
   "source": [
    "p4=Person()"
   ]
  },
  {
   "cell_type": "code",
   "execution_count": 89,
   "metadata": {},
   "outputs": [
    {
     "name": "stdout",
     "output_type": "stream",
     "text": [
      "p4.__class__\n",
      "p4.__delattr__\n",
      "p4.__dict__\n",
      "p4.__dir__\n",
      "p4.__doc__\n",
      "p4.__eq__\n",
      "p4.__firstlineno__\n",
      "p4.__format__\n",
      "p4.__ge__\n",
      "p4.__getattribute__\n",
      "p4.__getstate__\n",
      "p4.__gt__\n",
      "p4.__hash__\n",
      "p4.__init__\n",
      "p4.__init_subclass__\n",
      "p4.__le__\n",
      "p4.__lt__\n",
      "p4.__module__\n",
      "p4.__ne__\n",
      "p4.__new__\n",
      "p4.__reduce__\n",
      "p4.__reduce_ex__\n",
      "p4.__repr__\n",
      "p4.__setattr__\n",
      "p4.__sizeof__\n",
      "p4.__static_attributes__\n",
      "p4.__str__\n",
      "p4.__subclasshook__\n",
      "p4.__weakref__\n",
      "p4.age\n",
      "p4.first_name\n",
      "p4.last_name\n",
      "p4.mobile"
     ]
    }
   ],
   "source": [
    "p4.*?\n",
    "#p4.age\n",
    "#p4.first_name\n",
    "#p4.last_name\n",
    "#p4.mobile"
   ]
  },
  {
   "cell_type": "code",
   "execution_count": 90,
   "metadata": {},
   "outputs": [
    {
     "data": {
      "text/plain": [
       "'Gopichand'"
      ]
     },
     "execution_count": 90,
     "metadata": {},
     "output_type": "execute_result"
    }
   ],
   "source": [
    "p4.first_name"
   ]
  },
  {
   "cell_type": "code",
   "execution_count": 92,
   "metadata": {},
   "outputs": [],
   "source": [
    "class Customer:\n",
    "    def __init__(self, first_name, last_name, age, mobile):\n",
    "        print(\"This is inside init method\")\n",
    "        self.first_name = first_name\n",
    "        self.last_name = last_name\n",
    "        self.age = age\n",
    "        self.mobile = mobile\n",
    "        print(f\"first_name: {self.first_name}     last_name: {self.last_name}\")\n",
    "        print(f\"age: {self.age}     mobile: {self.mobile}\")\n",
    "    #"
   ]
  },
  {
   "cell_type": "code",
   "execution_count": 93,
   "metadata": {},
   "outputs": [
    {
     "ename": "TypeError",
     "evalue": "Customer.__init__() missing 4 required positional arguments: 'first_name', 'last_name', 'age', and 'mobile'",
     "output_type": "error",
     "traceback": [
      "\u001b[1;31m---------------------------------------------------------------------------\u001b[0m",
      "\u001b[1;31mTypeError\u001b[0m                                 Traceback (most recent call last)",
      "Cell \u001b[1;32mIn[93], line 1\u001b[0m\n\u001b[1;32m----> 1\u001b[0m c1\u001b[38;5;241m=\u001b[39m\u001b[43mCustomer\u001b[49m\u001b[43m(\u001b[49m\u001b[43m)\u001b[49m\n",
      "\u001b[1;31mTypeError\u001b[0m: Customer.__init__() missing 4 required positional arguments: 'first_name', 'last_name', 'age', and 'mobile'"
     ]
    }
   ],
   "source": [
    "c1=Customer()"
   ]
  },
  {
   "cell_type": "code",
   "execution_count": 94,
   "metadata": {},
   "outputs": [
    {
     "name": "stdout",
     "output_type": "stream",
     "text": [
      "This is inside init method\n",
      "first_name: chandu     last_name: P\n",
      "age: 22     mobile: 9988554488\n"
     ]
    }
   ],
   "source": [
    "c1=Customer(first_name='chandu',last_name='P',age=22,mobile=9988554488)"
   ]
  },
  {
   "cell_type": "code",
   "execution_count": 98,
   "metadata": {},
   "outputs": [
    {
     "name": "stdout",
     "output_type": "stream",
     "text": [
      "c1.__class__\n",
      "c1.__delattr__\n",
      "c1.__dict__\n",
      "c1.__dir__\n",
      "c1.__doc__\n",
      "c1.__eq__\n",
      "c1.__firstlineno__\n",
      "c1.__format__\n",
      "c1.__ge__\n",
      "c1.__getattribute__\n",
      "c1.__getstate__\n",
      "c1.__gt__\n",
      "c1.__hash__\n",
      "c1.__init__\n",
      "c1.__init_subclass__\n",
      "c1.__le__\n",
      "c1.__lt__\n",
      "c1.__module__\n",
      "c1.__ne__\n",
      "c1.__new__\n",
      "c1.__reduce__\n",
      "c1.__reduce_ex__\n",
      "c1.__repr__\n",
      "c1.__setattr__\n",
      "c1.__sizeof__\n",
      "c1.__static_attributes__\n",
      "c1.__str__\n",
      "c1.__subclasshook__\n",
      "c1.__weakref__\n",
      "c1.age\n",
      "c1.first_name\n",
      "c1.last_name\n",
      "c1.mobile"
     ]
    }
   ],
   "source": [
    "c1.*?\n",
    "#c1.age\n",
    "#c1.first_name\n",
    "#c1.last_name\n",
    "#c1.mobile"
   ]
  },
  {
   "cell_type": "code",
   "execution_count": 101,
   "metadata": {},
   "outputs": [],
   "source": [
    "class Customer:\n",
    "    def __init__(self, first_name, last_name, age, mobile):\n",
    "        self.fname = first_name\n",
    "        self.lname = last_name\n",
    "        self.cust_age = age\n",
    "        self.cust_mobile = mobile\n",
    "        print(f\"first_name: {self.fname}     last_name: {self.lname}\")\n",
    "        print(f\"age: {self.cust_age}     mobile: {self.cust_mobile}\")\n",
    "    #"
   ]
  },
  {
   "cell_type": "code",
   "execution_count": 102,
   "metadata": {},
   "outputs": [
    {
     "name": "stdout",
     "output_type": "stream",
     "text": [
      "first_name: Ram     last_name: L\n",
      "age: 5     mobile: 9876453210\n"
     ]
    }
   ],
   "source": [
    "cust2 = Customer(first_name='Ram',last_name='L',age=5,mobile=\"9876453210\")"
   ]
  },
  {
   "cell_type": "code",
   "execution_count": 105,
   "metadata": {},
   "outputs": [],
   "source": [
    "# cust2.*?\n",
    "\n",
    "# cust2.cust_age\n",
    "# cust2.cust_mobile\n",
    "# cust2.fname\n",
    "# cust2.lname"
   ]
  },
  {
   "cell_type": "code",
   "execution_count": 107,
   "metadata": {},
   "outputs": [],
   "source": [
    "class Emp:\n",
    "    def __init__(self, name, date_of_join, mobile):\n",
    "        print(\"This is inside init method\")\n",
    "\n",
    "        self.name = name\n",
    "        self.date_of_join = date_of_join\n",
    "        self.mobile = mobile\n",
    "        \n",
    "        print(f\"first_name: {self.name}\")\n",
    "        print(f\"date_of_join: {self.date_of_join}\")\n",
    "        print(f\"mobile: {self.mobile}\")\n",
    "    #"
   ]
  },
  {
   "cell_type": "code",
   "execution_count": 109,
   "metadata": {},
   "outputs": [
    {
     "name": "stdout",
     "output_type": "stream",
     "text": [
      "This is inside init method\n",
      "first_name: Raju\n",
      "date_of_join: 15/01/2025\n",
      "mobile: 9995551188\n"
     ]
    }
   ],
   "source": [
    "emp1 = Emp(name=\"Raju\",date_of_join=\"15/01/2025\",mobile=\"9995551188\")"
   ]
  },
  {
   "cell_type": "code",
   "execution_count": 110,
   "metadata": {},
   "outputs": [
    {
     "data": {
      "text/plain": [
       "'Raju'"
      ]
     },
     "execution_count": 110,
     "metadata": {},
     "output_type": "execute_result"
    }
   ],
   "source": [
    "emp1.name"
   ]
  },
  {
   "cell_type": "code",
   "execution_count": 111,
   "metadata": {},
   "outputs": [
    {
     "data": {
      "text/plain": [
       "'15/01/2025'"
      ]
     },
     "execution_count": 111,
     "metadata": {},
     "output_type": "execute_result"
    }
   ],
   "source": [
    "emp1.date_of_join"
   ]
  },
  {
   "cell_type": "code",
   "execution_count": 112,
   "metadata": {},
   "outputs": [
    {
     "data": {
      "text/plain": [
       "'9995551188'"
      ]
     },
     "execution_count": 112,
     "metadata": {},
     "output_type": "execute_result"
    }
   ],
   "source": [
    "emp1.mobile"
   ]
  },
  {
   "cell_type": "markdown",
   "metadata": {},
   "source": [
    "## employee object"
   ]
  },
  {
   "cell_type": "code",
   "execution_count": 118,
   "metadata": {},
   "outputs": [
    {
     "name": "stdout",
     "output_type": "stream",
     "text": [
      "This is inside init method\n",
      "first_name: Sita\n",
      "date_of_join: Jan 25, 2025\n",
      "mobile: 9154258825\n"
     ]
    }
   ],
   "source": [
    "emp2 = Emp(name=\"Sita\", date_of_join=\"Jan 25, 2025\", mobile=\"9154258825\")"
   ]
  },
  {
   "cell_type": "code",
   "execution_count": 119,
   "metadata": {},
   "outputs": [
    {
     "data": {
      "text/plain": [
       "'Sita'"
      ]
     },
     "execution_count": 119,
     "metadata": {},
     "output_type": "execute_result"
    }
   ],
   "source": [
    "emp2.name"
   ]
  },
  {
   "cell_type": "code",
   "execution_count": 116,
   "metadata": {},
   "outputs": [
    {
     "data": {
      "text/plain": [
       "'Jan 25, 2025'"
      ]
     },
     "execution_count": 116,
     "metadata": {},
     "output_type": "execute_result"
    }
   ],
   "source": [
    "emp2.date_of_join"
   ]
  },
  {
   "cell_type": "code",
   "execution_count": 120,
   "metadata": {},
   "outputs": [
    {
     "data": {
      "text/plain": [
       "'9154258825'"
      ]
     },
     "execution_count": 120,
     "metadata": {},
     "output_type": "execute_result"
    }
   ],
   "source": [
    "emp2.mobile"
   ]
  },
  {
   "cell_type": "markdown",
   "metadata": {},
   "source": [
    "### Defining a class"
   ]
  },
  {
   "cell_type": "code",
   "execution_count": 5,
   "metadata": {},
   "outputs": [
    {
     "name": "stdout",
     "output_type": "stream",
     "text": [
      "This is starting line of Animal class\n",
      "This is end line of Animal Class\n"
     ]
    }
   ],
   "source": [
    "class Animal:\n",
    "    print(\"This is starting line of Animal class\")\n",
    "\n",
    "    def __init__(self):\n",
    "        print(\"This is inside __init__ method\")\n",
    "        name=\"tommy\"\n",
    "        age=1\n",
    "        color=\"black\"\n",
    "        weight=20.3\n",
    "        print(f\"name: {name} age:{age}\")\n",
    "        print(f\"color:{color} weight:{weight}\")\n",
    "    #\n",
    "print(\"This is end line of Animal Class\")"
   ]
  },
  {
   "cell_type": "code",
   "execution_count": 7,
   "metadata": {},
   "outputs": [
    {
     "name": "stdout",
     "output_type": "stream",
     "text": [
      "This is inside __init__ method\n",
      "name: tommy age:1\n",
      "color:black weight:20.3\n"
     ]
    }
   ],
   "source": [
    "dog=Animal()"
   ]
  },
  {
   "cell_type": "markdown",
   "metadata": {},
   "source": [
    "## class with attributes"
   ]
  },
  {
   "cell_type": "code",
   "execution_count": 13,
   "metadata": {},
   "outputs": [
    {
     "name": "stdout",
     "output_type": "stream",
     "text": [
      "This is starting line of Animal Class\n",
      "This is end line of Animal Class\n",
      "Name:Tommy, Age:1, Color:black, Weight:20.3\n"
     ]
    }
   ],
   "source": [
    "class Animal:\n",
    "    print(\"This is starting line of Animal Class\")\n",
    "\n",
    "    def __init__(self):\n",
    "        print(\"This is inside __init__ method\")\n",
    "        self.name = \"Tommy\"\n",
    "        self.age = 1\n",
    "        self.color = \"black\"\n",
    "        self.weight = 20.3\n",
    "#\n",
    "print(\"This is end line of Animal Class\")\n",
    "print(f\"Name:{dog.name}, Age:{dog.age}, Color:{dog.color}, Weight:{dog.weight}\")"
   ]
  },
  {
   "cell_type": "code",
   "execution_count": 10,
   "metadata": {},
   "outputs": [
    {
     "name": "stdout",
     "output_type": "stream",
     "text": [
      "This is inside __init__ method\n"
     ]
    }
   ],
   "source": [
    "dog=Animal()"
   ]
  },
  {
   "cell_type": "code",
   "execution_count": 11,
   "metadata": {},
   "outputs": [
    {
     "data": {
      "text/plain": [
       "'Tommy'"
      ]
     },
     "execution_count": 11,
     "metadata": {},
     "output_type": "execute_result"
    }
   ],
   "source": [
    "dog.name"
   ]
  },
  {
   "cell_type": "code",
   "execution_count": 12,
   "metadata": {},
   "outputs": [
    {
     "name": "stdout",
     "output_type": "stream",
     "text": [
      "Name:Tommy, Age:1, Color:black, Weight:20.3\n"
     ]
    }
   ],
   "source": [
    "print(f\"Name:{dog.name}, Age:{dog.age}, Color:{dog.color}, Weight:{dog.weight}\")"
   ]
  },
  {
   "cell_type": "code",
   "execution_count": 16,
   "metadata": {},
   "outputs": [
    {
     "name": "stdout",
     "output_type": "stream",
     "text": [
      "This is starting line of Animal Class\n",
      "This is end line of Animal Class\n"
     ]
    }
   ],
   "source": [
    "class Animal:\n",
    "    print(\"This is starting line of Animal Class\")\n",
    "\n",
    "    def __init__(self,name, age, color, weight):\n",
    "        print(\"This is inside __init__ method\")\n",
    "        self.name = name\n",
    "        self.age = age\n",
    "        self.color = color\n",
    "        self.weight = weight\n",
    "    #\n",
    "print(\"This is end line of Animal Class\")"
   ]
  },
  {
   "cell_type": "code",
   "execution_count": 23,
   "metadata": {},
   "outputs": [
    {
     "name": "stdout",
     "output_type": "stream",
     "text": [
      "This is inside __init__ method\n"
     ]
    }
   ],
   "source": [
    "Animal1 = Animal(name='tiger', age=5, color='white', weight=20)"
   ]
  },
  {
   "cell_type": "code",
   "execution_count": 25,
   "metadata": {},
   "outputs": [
    {
     "name": "stdout",
     "output_type": "stream",
     "text": [
      "tiger\n",
      "5\n",
      "white\n",
      "20\n"
     ]
    }
   ],
   "source": [
    "print(Animal1.name)\n",
    "print(Animal1.age)\n",
    "print(Animal1.color)\n",
    "print(Animal1.weight)"
   ]
  },
  {
   "cell_type": "code",
   "execution_count": 26,
   "metadata": {},
   "outputs": [
    {
     "name": "stdout",
     "output_type": "stream",
     "text": [
      "This is inside __init__ method\n"
     ]
    }
   ],
   "source": [
    "cat = Animal(name='Luna', age=2, color='black', weight=8.1)"
   ]
  },
  {
   "cell_type": "code",
   "execution_count": 27,
   "metadata": {},
   "outputs": [
    {
     "name": "stdout",
     "output_type": "stream",
     "text": [
      "Luna\n",
      "2\n",
      "black\n",
      "8.1\n"
     ]
    }
   ],
   "source": [
    "print(cat.name)\n",
    "print(cat.age)\n",
    "print(cat.color)\n",
    "print(cat.weight)"
   ]
  },
  {
   "cell_type": "code",
   "execution_count": 32,
   "metadata": {},
   "outputs": [
    {
     "name": "stdout",
     "output_type": "stream",
     "text": [
      "This is start line of Animal Class\n",
      "This is end line of Animal Class\n"
     ]
    }
   ],
   "source": [
    "class Animal:\n",
    "    print(\"This is start line of Animal Class\")\n",
    "\n",
    "    def __init__(self, name, age, color, weight):\n",
    "        print(\"This is inside __init__ method\")\n",
    "        self.name = name\n",
    "        self.age = age\n",
    "        self.color = color\n",
    "        self.weight = weight\n",
    "    # End of __init__ method\n",
    "\n",
    "    def update_name(self, new_name):\n",
    "        self.name = new_name\n",
    "    #\n",
    "\n",
    "    ## Assignment\n",
    "    def update_age(self,new_age):\n",
    "        self.age = new_age\n",
    "    #\n",
    "\n",
    "    ## Assignment\n",
    "    def update_color(self,new_color):\n",
    "        self.color = new_color\n",
    "    #\n",
    "\n",
    "    ## Assignment\n",
    "    def update_weight(self,new_weight):\n",
    "        self.weight = new_weight\n",
    "    #\n",
    "    \n",
    "    print(\"This is end line of Animal Class\")\n",
    "## End of Animal Class"
   ]
  },
  {
   "cell_type": "code",
   "execution_count": 35,
   "metadata": {},
   "outputs": [
    {
     "name": "stdout",
     "output_type": "stream",
     "text": [
      "This is inside __init__ method\n"
     ]
    }
   ],
   "source": [
    "animal2 = Animal(name='Oreo', age=1, color='white', weight=15.4)"
   ]
  },
  {
   "cell_type": "code",
   "execution_count": 37,
   "metadata": {},
   "outputs": [
    {
     "name": "stdout",
     "output_type": "stream",
     "text": [
      "animal2.__class__\n",
      "animal2.__delattr__\n",
      "animal2.__dict__\n",
      "animal2.__dir__\n",
      "animal2.__doc__\n",
      "animal2.__eq__\n",
      "animal2.__firstlineno__\n",
      "animal2.__format__\n",
      "animal2.__ge__\n",
      "animal2.__getattribute__\n",
      "animal2.__getstate__\n",
      "animal2.__gt__\n",
      "animal2.__hash__\n",
      "animal2.__init__\n",
      "animal2.__init_subclass__\n",
      "animal2.__le__\n",
      "animal2.__lt__\n",
      "animal2.__module__\n",
      "animal2.__ne__\n",
      "animal2.__new__\n",
      "animal2.__reduce__\n",
      "animal2.__reduce_ex__\n",
      "animal2.__repr__\n",
      "animal2.__setattr__\n",
      "animal2.__sizeof__\n",
      "animal2.__static_attributes__\n",
      "animal2.__str__\n",
      "animal2.__subclasshook__\n",
      "animal2.__weakref__\n",
      "animal2.age\n",
      "animal2.color\n",
      "animal2.name\n",
      "animal2.update_age\n",
      "animal2.update_color\n",
      "animal2.update_name\n",
      "animal2.update_weight\n",
      "animal2.weight"
     ]
    }
   ],
   "source": [
    "animal2.*?"
   ]
  },
  {
   "cell_type": "code",
   "execution_count": 38,
   "metadata": {},
   "outputs": [],
   "source": [
    "animal2.update_age(\"5\")"
   ]
  },
  {
   "cell_type": "code",
   "execution_count": 39,
   "metadata": {},
   "outputs": [
    {
     "data": {
      "text/plain": [
       "'5'"
      ]
     },
     "execution_count": 39,
     "metadata": {},
     "output_type": "execute_result"
    }
   ],
   "source": [
    "animal2.age"
   ]
  },
  {
   "cell_type": "code",
   "execution_count": 41,
   "metadata": {},
   "outputs": [],
   "source": [
    "animal2.update_weight(\"15.05\")"
   ]
  },
  {
   "cell_type": "code",
   "execution_count": 42,
   "metadata": {},
   "outputs": [
    {
     "data": {
      "text/plain": [
       "'15.05'"
      ]
     },
     "execution_count": 42,
     "metadata": {},
     "output_type": "execute_result"
    }
   ],
   "source": [
    "animal2.weight"
   ]
  },
  {
   "cell_type": "code",
   "execution_count": 43,
   "metadata": {},
   "outputs": [
    {
     "name": "stdout",
     "output_type": "stream",
     "text": [
      "Oreo\n",
      "5\n",
      "white\n",
      "15.05\n"
     ]
    }
   ],
   "source": [
    "print(animal2.name)\n",
    "print(animal2.age)\n",
    "print(animal2.color)\n",
    "print(animal2.weight)"
   ]
  },
  {
   "cell_type": "code",
   "execution_count": 89,
   "metadata": {},
   "outputs": [
    {
     "name": "stdout",
     "output_type": "stream",
     "text": [
      "This is start of class Customer\n",
      "This is end of class Customer\n"
     ]
    }
   ],
   "source": [
    "class Customer:\n",
    "    print(\"This is start of class Customer\")\n",
    "\n",
    "    # __init__ will execute only once, when a new object is created\n",
    "    def __init__(self, first_name, last_name, age, mobile):\n",
    "        print(\"This is inside init method\")\n",
    "\n",
    "        # first_name, last_name, age, mobile : are the attributes of the class\n",
    "        self.first_name = first_name\n",
    "        self.last_name = last_name\n",
    "        self.age = age\n",
    "        self.mobile = mobile\n",
    "        print(f\"first_name: {self.first_name}     last_name: {self.last_name}\")\n",
    "        print(f\"age: {self.age}     mobile: {self.mobile}\")\n",
    "    #\n",
    "\n",
    "    # update_first_name, update_last_name: are the methods of the class\n",
    "    def update_first_name(self, new_first_name):\n",
    "        print(new_first_name)\n",
    "        self.first_name = new_first_name\n",
    "        print(f\"first_name is updated as: {self.first_name}\")\n",
    "    #\n",
    "\n",
    "    def update_last_name(self, new_last_name):\n",
    "        print(new_last_name)\n",
    "        self.last_name = new_last_name\n",
    "        print(f\"last_name is updated as: {self.last_name}\")\n",
    "    #\n",
    "\n",
    "    ## Assignment\n",
    "    def update_age(self,new_age):\n",
    "        print(new_age)\n",
    "        self.age = new_age\n",
    "        print(f\"age is updated: {self.age}\")\n",
    "    #\n",
    "\n",
    "    ## Assignment\n",
    "    def update_mobile(self,new_mobile):\n",
    "        print(new_mobile)\n",
    "        self.mobile = new_mobile\n",
    "        print(f\"mobile is updaed: {self.mobile}\")\n",
    "    #\n",
    "\n",
    "    print(\"This is end of class Customer\")"
   ]
  },
  {
   "cell_type": "code",
   "execution_count": 90,
   "metadata": {},
   "outputs": [
    {
     "name": "stdout",
     "output_type": "stream",
     "text": [
      "This is inside init method\n",
      "first_name: Gopichand     last_name: palagani\n",
      "age: 22     mobile: 8686884155\n"
     ]
    }
   ],
   "source": [
    "cust1 = Customer(first_name='Gopichand', last_name='palagani', age=22, mobile=\"8686884155\")"
   ]
  },
  {
   "cell_type": "code",
   "execution_count": 91,
   "metadata": {},
   "outputs": [
    {
     "name": "stdout",
     "output_type": "stream",
     "text": [
      "This is inside init method\n",
      "first_name: Ram     last_name: Narayana\n",
      "age: 27     mobile: 9876543210\n"
     ]
    }
   ],
   "source": [
    "cust2 = Customer('Ram', 'Narayana', 27, \"9876543210\")"
   ]
  },
  {
   "cell_type": "code",
   "execution_count": 77,
   "metadata": {},
   "outputs": [
    {
     "name": "stdout",
     "output_type": "stream",
     "text": [
      "This is inside init method\n",
      "first_name: Joseph     last_name: K\n",
      "age: 54     mobile: \n"
     ]
    }
   ],
   "source": [
    "cust3 = Customer('Joseph', 'K', 54, \"\")"
   ]
  },
  {
   "cell_type": "code",
   "execution_count": 92,
   "metadata": {},
   "outputs": [
    {
     "name": "stdout",
     "output_type": "stream",
     "text": [
      "Gopichand\n",
      "palagani\n",
      "22\n",
      "8686884155\n"
     ]
    }
   ],
   "source": [
    "print(cust1.first_name)\n",
    "print(cust1.last_name)\n",
    "print(cust1.age)\n",
    "print(cust1.mobile)"
   ]
  },
  {
   "cell_type": "code",
   "execution_count": 93,
   "metadata": {},
   "outputs": [
    {
     "name": "stdout",
     "output_type": "stream",
     "text": [
      "Leela Gopichand\n",
      "first_name is updated as: Leela Gopichand\n"
     ]
    }
   ],
   "source": [
    "cust1.update_first_name(\"Leela Gopichand\")"
   ]
  },
  {
   "cell_type": "code",
   "execution_count": 94,
   "metadata": {},
   "outputs": [
    {
     "name": "stdout",
     "output_type": "stream",
     "text": [
      "P\n",
      "last_name is updated as: P\n"
     ]
    }
   ],
   "source": [
    "cust1.update_last_name(\"P\")"
   ]
  },
  {
   "cell_type": "code",
   "execution_count": 95,
   "metadata": {},
   "outputs": [
    {
     "name": "stdout",
     "output_type": "stream",
     "text": [
      "Leela Gopichand\n",
      "P\n",
      "22\n",
      "8686884155\n"
     ]
    }
   ],
   "source": [
    "print(cust1.first_name)\n",
    "print(cust1.last_name)\n",
    "print(cust1.age)\n",
    "print(cust1.mobile)"
   ]
  },
  {
   "cell_type": "code",
   "execution_count": 6,
   "metadata": {},
   "outputs": [
    {
     "name": "stdout",
     "output_type": "stream",
     "text": [
      "Person class\n"
     ]
    }
   ],
   "source": [
    "class Person:\n",
    "    print(\"Person class\")\n",
    "    def __init__(self,name,dob,mobile,aadhar):\n",
    "        print(\"Inside Person class __init__\")\n",
    "        self.name = name\n",
    "        self.dob = dob\n",
    "        self.mobile = mobile\n",
    "        self.aadhar = aadhar\n",
    "        print(\"Person class attributes are created\")\n",
    "    \n",
    "    def update_mobile(self,mobile_num):\n",
    "        self.mobile = mobile_num\n",
    "\n",
    "    def read_attributes(self):\n",
    "        return {'name':self.name, 'dob':self.dob, 'mobile':self.mobile, 'aadhar':self.aadhar}\n",
    "# End of Person class"
   ]
  },
  {
   "cell_type": "code",
   "execution_count": 7,
   "metadata": {},
   "outputs": [
    {
     "name": "stdout",
     "output_type": "stream",
     "text": [
      "Inside Person class __init__\n",
      "Person class attributes are created\n"
     ]
    }
   ],
   "source": [
    "p1= Person(\"Gopichand\",'02/01/2004','8998985248','885544558899')"
   ]
  },
  {
   "cell_type": "code",
   "execution_count": 9,
   "metadata": {},
   "outputs": [
    {
     "data": {
      "text/plain": [
       "{'name': 'Gopichand',\n",
       " 'dob': '02/01/2004',\n",
       " 'mobile': '8998985248',\n",
       " 'aadhar': '885544558899'}"
      ]
     },
     "execution_count": 9,
     "metadata": {},
     "output_type": "execute_result"
    }
   ],
   "source": [
    "p1.read_attributes()"
   ]
  },
  {
   "cell_type": "code",
   "execution_count": 10,
   "metadata": {},
   "outputs": [
    {
     "name": "stdout",
     "output_type": "stream",
     "text": [
      "First Line of Strudent class\n"
     ]
    }
   ],
   "source": [
    "class Student(Person):\n",
    "    print(\"First Line of Strudent class\")\n",
    "    pass"
   ]
  },
  {
   "cell_type": "code",
   "execution_count": null,
   "metadata": {},
   "outputs": [
    {
     "name": "stdout",
     "output_type": "stream",
     "text": [
      "Inside Person class __init__\n",
      "Person class attributes are created\n"
     ]
    }
   ],
   "source": [
    "s1 = Student(\"Lakshmi\",10,'','346798684334')"
   ]
  },
  {
   "cell_type": "code",
   "execution_count": 14,
   "metadata": {},
   "outputs": [
    {
     "data": {
      "text/plain": [
       "'Lakshmi'"
      ]
     },
     "execution_count": 14,
     "metadata": {},
     "output_type": "execute_result"
    }
   ],
   "source": [
    "s1.name"
   ]
  },
  {
   "cell_type": "code",
   "execution_count": 15,
   "metadata": {},
   "outputs": [
    {
     "data": {
      "text/plain": [
       "'346798684334'"
      ]
     },
     "execution_count": 15,
     "metadata": {},
     "output_type": "execute_result"
    }
   ],
   "source": [
    "s1.aadhar"
   ]
  },
  {
   "cell_type": "code",
   "execution_count": 16,
   "metadata": {},
   "outputs": [
    {
     "data": {
      "text/plain": [
       "{'name': 'Lakshmi', 'dob': 10, 'mobile': '', 'aadhar': '346798684334'}"
      ]
     },
     "execution_count": 16,
     "metadata": {},
     "output_type": "execute_result"
    }
   ],
   "source": [
    "s1.read_attributes()"
   ]
  },
  {
   "cell_type": "markdown",
   "metadata": {},
   "source": [
    "## Inheritance"
   ]
  },
  {
   "cell_type": "code",
   "execution_count": 19,
   "metadata": {},
   "outputs": [
    {
     "name": "stdout",
     "output_type": "stream",
     "text": [
      "This is Student class\n"
     ]
    }
   ],
   "source": [
    "class Student(Person):\n",
    "    print(\"This is Student class\") \n",
    "    def __init__(self,stdId,yoj,branch,section):\n",
    "        print(\"This is Student Class\")\n",
    "        self.stdId = stdId\n",
    "        self.yoj = yoj          # yoj : year_of_joining\n",
    "        self.branch = branch\n",
    "        self.section = section\n",
    "        print(\"Student class attributes are created\") \n",
    "##\n",
    "    def update_branch(self, new_branch):\n",
    "        return super().update_branch(new_branch)\n",
    "    \n",
    "    def get_student_attributes(self):\n",
    "        return [self.stdId, self.yoj, self.branch, self.section]"
   ]
  },
  {
   "cell_type": "code",
   "execution_count": 20,
   "metadata": {},
   "outputs": [
    {
     "name": "stdout",
     "output_type": "stream",
     "text": [
      "This is Student Class\n",
      "Student class attributes are created\n"
     ]
    }
   ],
   "source": [
    "s1 = Student(\"417\",2024,\"ECE\",\"B\")"
   ]
  },
  {
   "cell_type": "code",
   "execution_count": 21,
   "metadata": {},
   "outputs": [
    {
     "name": "stdout",
     "output_type": "stream",
     "text": [
      "s1.__class__\n",
      "s1.__delattr__\n",
      "s1.__dict__\n",
      "s1.__dir__\n",
      "s1.__doc__\n",
      "s1.__eq__\n",
      "s1.__firstlineno__\n",
      "s1.__format__\n",
      "s1.__ge__\n",
      "s1.__getattribute__\n",
      "s1.__getstate__\n",
      "s1.__gt__\n",
      "s1.__hash__\n",
      "s1.__init__\n",
      "s1.__init_subclass__\n",
      "s1.__le__\n",
      "s1.__lt__\n",
      "s1.__module__\n",
      "s1.__ne__\n",
      "s1.__new__\n",
      "s1.__reduce__\n",
      "s1.__reduce_ex__\n",
      "s1.__repr__\n",
      "s1.__setattr__\n",
      "s1.__sizeof__\n",
      "s1.__static_attributes__\n",
      "s1.__str__\n",
      "s1.__subclasshook__\n",
      "s1.__weakref__\n",
      "s1.branch\n",
      "s1.get_student_attributes\n",
      "s1.read_attributes\n",
      "s1.section\n",
      "s1.stdId\n",
      "s1.update_branch\n",
      "s1.update_mobile\n",
      "s1.yoj"
     ]
    }
   ],
   "source": [
    "s1.*?"
   ]
  },
  {
   "cell_type": "code",
   "execution_count": 22,
   "metadata": {},
   "outputs": [
    {
     "data": {
      "text/plain": [
       "['417', 2024, 'ECE', 'B']"
      ]
     },
     "execution_count": 22,
     "metadata": {},
     "output_type": "execute_result"
    }
   ],
   "source": [
    "s1.get_student_attributes()"
   ]
  },
  {
   "cell_type": "markdown",
   "metadata": {},
   "source": [
    "## creating single inheritance"
   ]
  },
  {
   "cell_type": "code",
   "execution_count": 23,
   "metadata": {},
   "outputs": [
    {
     "name": "stdout",
     "output_type": "stream",
     "text": [
      "This is Student class\n"
     ]
    }
   ],
   "source": [
    "class Student(Person):\n",
    "    print(\"This is Student class\") \n",
    "    def __init__(self,name,dob,mobile,aadhar,stdId,yoj,branch,section):\n",
    "        print(\"Inside Student class __init__constructor\") \n",
    "        super().__init__(name,dob,mobile,aadhar)\n",
    "        print(\"Creating student attributes\") \n",
    "        self.stdId = stdId\n",
    "        self.yoj = yoj\n",
    "        self.branch = branch\n",
    "        self.section = section\n",
    "\n",
    "    def get_student_attributes(self):\n",
    "        return [self.stdId, self.yoj, self.branch, self.section]"
   ]
  },
  {
   "cell_type": "code",
   "execution_count": 26,
   "metadata": {},
   "outputs": [
    {
     "name": "stdout",
     "output_type": "stream",
     "text": [
      "Inside Student class __init__constructor\n",
      "Inside Person class __init__\n",
      "Person class attributes are created\n",
      "Creating student attributes\n"
     ]
    }
   ],
   "source": [
    "s2 = Student(\"Gopichand\",'20/10/2003','','346798684334',\"417\",2024,\"ECE\",\"B\")"
   ]
  },
  {
   "cell_type": "code",
   "execution_count": 25,
   "metadata": {},
   "outputs": [
    {
     "data": {
      "text/plain": [
       "'Lakshmi'"
      ]
     },
     "execution_count": 25,
     "metadata": {},
     "output_type": "execute_result"
    }
   ],
   "source": [
    "s2.name"
   ]
  },
  {
   "cell_type": "code",
   "execution_count": 27,
   "metadata": {},
   "outputs": [
    {
     "data": {
      "text/plain": [
       "'417'"
      ]
     },
     "execution_count": 27,
     "metadata": {},
     "output_type": "execute_result"
    }
   ],
   "source": [
    "s2.stdId"
   ]
  },
  {
   "cell_type": "code",
   "execution_count": 28,
   "metadata": {},
   "outputs": [
    {
     "name": "stdout",
     "output_type": "stream",
     "text": [
      "s2.__class__\n",
      "s2.__delattr__\n",
      "s2.__dict__\n",
      "s2.__dir__\n",
      "s2.__doc__\n",
      "s2.__eq__\n",
      "s2.__firstlineno__\n",
      "s2.__format__\n",
      "s2.__ge__\n",
      "s2.__getattribute__\n",
      "s2.__getstate__\n",
      "s2.__gt__\n",
      "s2.__hash__\n",
      "s2.__init__\n",
      "s2.__init_subclass__\n",
      "s2.__le__\n",
      "s2.__lt__\n",
      "s2.__module__\n",
      "s2.__ne__\n",
      "s2.__new__\n",
      "s2.__reduce__\n",
      "s2.__reduce_ex__\n",
      "s2.__repr__\n",
      "s2.__setattr__\n",
      "s2.__sizeof__\n",
      "s2.__static_attributes__\n",
      "s2.__str__\n",
      "s2.__subclasshook__\n",
      "s2.__weakref__\n",
      "s2.aadhar\n",
      "s2.branch\n",
      "s2.dob\n",
      "s2.get_student_attributes\n",
      "s2.mobile\n",
      "s2.name\n",
      "s2.read_attributes\n",
      "s2.section\n",
      "s2.stdId\n",
      "s2.update_mobile\n",
      "s2.yoj"
     ]
    }
   ],
   "source": [
    "s2.*?"
   ]
  },
  {
   "cell_type": "code",
   "execution_count": 29,
   "metadata": {},
   "outputs": [
    {
     "data": {
      "text/plain": [
       "{'name': 'Gopichand',\n",
       " 'dob': '20/10/2003',\n",
       " 'mobile': '',\n",
       " 'aadhar': '346798684334'}"
      ]
     },
     "execution_count": 29,
     "metadata": {},
     "output_type": "execute_result"
    }
   ],
   "source": [
    "s2.read_attributes()"
   ]
  },
  {
   "cell_type": "code",
   "execution_count": 30,
   "metadata": {},
   "outputs": [
    {
     "data": {
      "text/plain": [
       "['417', 2024, 'ECE', 'B']"
      ]
     },
     "execution_count": 30,
     "metadata": {},
     "output_type": "execute_result"
    }
   ],
   "source": [
    "s2.get_student_attributes()"
   ]
  },
  {
   "cell_type": "code",
   "execution_count": 31,
   "metadata": {},
   "outputs": [
    {
     "name": "stdout",
     "output_type": "stream",
     "text": [
      "346798684334\n",
      "ECE\n",
      "417\n"
     ]
    }
   ],
   "source": [
    "print(s2.aadhar)\n",
    "print(s2.branch)\n",
    "print(s2.stdId)"
   ]
  },
  {
   "cell_type": "code",
   "execution_count": 33,
   "metadata": {},
   "outputs": [
    {
     "name": "stdout",
     "output_type": "stream",
     "text": [
      "Person class\n"
     ]
    }
   ],
   "source": [
    "class Person:\n",
    "    print(\"Person class\")\n",
    "    def __init__(self,name,age,mobile,aadhar):\n",
    "        print(\"This is Person class initializer\")\n",
    "        self.name = name\n",
    "        self.age = age\n",
    "        self.mobile = mobile\n",
    "        self.aadhar = aadhar\n",
    "        print(\"Person class attributes are created\")\n",
    "    \n",
    "    def update_mobile(self,mobile_num):\n",
    "        self.mobile = mobile_num\n",
    "\n",
    "    def get_person_attributes(self):\n",
    "        print(\"Atributes function of Person class\")\n",
    "        return [self.name, self.age, self.mobile, self.aadhar]\n",
    "\n",
    "##end of Person Class"
   ]
  },
  {
   "cell_type": "markdown",
   "metadata": {},
   "source": [
    "## -------- Multiple Inheritance--------------"
   ]
  },
  {
   "cell_type": "code",
   "execution_count": 34,
   "metadata": {},
   "outputs": [
    {
     "name": "stdout",
     "output_type": "stream",
     "text": [
      "Person class\n"
     ]
    }
   ],
   "source": [
    "class Person:\n",
    "    print(\"Person class\")\n",
    "    def __init__(self,name,age,mobile,aadhar):\n",
    "        print(\"This is Person class initializer\")\n",
    "        self.name = name\n",
    "        self.age = age\n",
    "        self.mobile = mobile\n",
    "        self.aadhar = aadhar\n",
    "        print(\"Person class attributes are created\")\n",
    "    \n",
    "    def update_mobile(self,mobile_num):\n",
    "        self.mobile = mobile_num\n",
    "\n",
    "    def get_person_attributes(self):\n",
    "        print(\"Atributes function of Person class\")\n",
    "        return [self.name, self.age, self.mobile, self.aadhar]\n",
    "#End of Person Class"
   ]
  },
  {
   "cell_type": "code",
   "execution_count": 35,
   "metadata": {},
   "outputs": [
    {
     "name": "stdout",
     "output_type": "stream",
     "text": [
      "Address class\n"
     ]
    }
   ],
   "source": [
    "class Address:\n",
    "    print(\"Address class\")\n",
    "    def __init__(self,dno,hname,street,location,pincode):\n",
    "        print(\"Address class intializer\")\n",
    "        self.dno = dno\n",
    "        self.hname = hname\n",
    "        self.street = street\n",
    "        self.location = location\n",
    "        self.pincode = pincode\n",
    "        print(\"Address class attributes are ceated\")\n",
    "    #\n",
    "\n",
    "    def get_address_attributes(self):\n",
    "        print(\"Attributes function of Address class\")\n",
    "        return {\"dno\": self.dno, \"hname\": self.hname, \"street\": self.street, \"location\":self.location, \"pincode\": self.pincode}"
   ]
  },
  {
   "cell_type": "code",
   "execution_count": 36,
   "metadata": {},
   "outputs": [
    {
     "name": "stdout",
     "output_type": "stream",
     "text": [
      "Student class\n"
     ]
    }
   ],
   "source": [
    "class Student(Person, Address):\n",
    "    print(\"Student class\")\n",
    "    def __init__(self,name,age,mobile,aadhar,dno,hname,street,location,pincode,sId,yoj,branch,section):\n",
    "        print(\"Student class initializer\")\n",
    "        self.name = name\n",
    "        self.age = age\n",
    "        self.mobile = mobile\n",
    "        self.aadhar = aadhar\n",
    "        self.dno = dno\n",
    "        self.hname = hname\n",
    "        self.street = street\n",
    "        self.location = location\n",
    "        self.pincode = pincode\n",
    "        self.sId = sId\n",
    "        self.yoj = yoj\n",
    "        self.branch = branch\n",
    "        self.section = section\n",
    "        print(\"Student class attributes are created\")\n",
    "    #\n",
    "\n",
    "    def get_all_attributes(self):\n",
    "        print(\"From Student class\")\n",
    "        return {\"name\": self.name, \"age\": self.age, \"mobile\": self.mobile, \"aadhar\":self.aadhar, \"dno\": self.dno, \"hname\": self.hname, \"street\": self.street, \"location\":self.location, \"pincode\": self.pincode, \"sId\": self.sId, \"yoj\": self.yoj, \"branch\":self.branch, \"section\": self.section}\n",
    "    \n",
    "    def get_student_attributes(self):\n",
    "        print(\"From Student class\")\n",
    "        return {\"sId\": self.sId, \"yoj\": self.yoj, \"branch\":self.branch, \"section\": self.section}\n",
    "#"
   ]
  },
  {
   "cell_type": "code",
   "execution_count": 37,
   "metadata": {},
   "outputs": [
    {
     "name": "stdout",
     "output_type": "stream",
     "text": [
      "Student class initializer\n",
      "Student class attributes are created\n"
     ]
    }
   ],
   "source": [
    "s1 = Student(\n",
    "    name=\"Gopichand\",\n",
    "    age=25,\n",
    "    mobile=\"7878787878\",\n",
    "    aadhar=\"123456789012\",\n",
    "    dno=\"12-2-2\",\n",
    "    hname=\"Om Nilayam\",\n",
    "    street=\"old mangalagiri\",\n",
    "    location=\"mangalagiri\",\n",
    "    pincode=522503,\n",
    "    sId=\"20CSE12\",\n",
    "    yoj=\"2019\",\n",
    "    branch=\"CSE\",\n",
    "    section=\"A\"\n",
    ")"
   ]
  },
  {
   "cell_type": "code",
   "execution_count": 38,
   "metadata": {},
   "outputs": [
    {
     "name": "stdout",
     "output_type": "stream",
     "text": [
      "s1.__class__\n",
      "s1.__delattr__\n",
      "s1.__dict__\n",
      "s1.__dir__\n",
      "s1.__doc__\n",
      "s1.__eq__\n",
      "s1.__firstlineno__\n",
      "s1.__format__\n",
      "s1.__ge__\n",
      "s1.__getattribute__\n",
      "s1.__getstate__\n",
      "s1.__gt__\n",
      "s1.__hash__\n",
      "s1.__init__\n",
      "s1.__init_subclass__\n",
      "s1.__le__\n",
      "s1.__lt__\n",
      "s1.__module__\n",
      "s1.__ne__\n",
      "s1.__new__\n",
      "s1.__reduce__\n",
      "s1.__reduce_ex__\n",
      "s1.__repr__\n",
      "s1.__setattr__\n",
      "s1.__sizeof__\n",
      "s1.__static_attributes__\n",
      "s1.__str__\n",
      "s1.__subclasshook__\n",
      "s1.__weakref__\n",
      "s1.aadhar\n",
      "s1.age\n",
      "s1.branch\n",
      "s1.dno\n",
      "s1.get_address_attributes\n",
      "s1.get_all_attributes\n",
      "s1.get_person_attributes\n",
      "s1.get_student_attributes\n",
      "s1.hname\n",
      "s1.location\n",
      "s1.mobile\n",
      "s1.name\n",
      "s1.pincode\n",
      "s1.sId\n",
      "s1.section\n",
      "s1.street\n",
      "s1.update_mobile\n",
      "s1.yoj"
     ]
    }
   ],
   "source": [
    "s1.*?"
   ]
  },
  {
   "cell_type": "code",
   "execution_count": 39,
   "metadata": {},
   "outputs": [
    {
     "name": "stdout",
     "output_type": "stream",
     "text": [
      "Atributes function of Person class\n"
     ]
    },
    {
     "data": {
      "text/plain": [
       "['Gopichand', 25, '7878787878', '123456789012']"
      ]
     },
     "execution_count": 39,
     "metadata": {},
     "output_type": "execute_result"
    }
   ],
   "source": [
    "s1.get_person_attributes()"
   ]
  },
  {
   "cell_type": "code",
   "execution_count": 40,
   "metadata": {},
   "outputs": [
    {
     "name": "stdout",
     "output_type": "stream",
     "text": [
      "Attributes function of Address class\n"
     ]
    },
    {
     "data": {
      "text/plain": [
       "{'dno': '12-2-2',\n",
       " 'hname': 'Om Nilayam',\n",
       " 'street': 'old mangalagiri',\n",
       " 'location': 'mangalagiri',\n",
       " 'pincode': 522503}"
      ]
     },
     "execution_count": 40,
     "metadata": {},
     "output_type": "execute_result"
    }
   ],
   "source": [
    "s1.get_address_attributes()"
   ]
  },
  {
   "cell_type": "code",
   "execution_count": 41,
   "metadata": {},
   "outputs": [
    {
     "name": "stdout",
     "output_type": "stream",
     "text": [
      "From Student class\n"
     ]
    },
    {
     "data": {
      "text/plain": [
       "{'name': 'Gopichand',\n",
       " 'age': 25,\n",
       " 'mobile': '7878787878',\n",
       " 'aadhar': '123456789012',\n",
       " 'dno': '12-2-2',\n",
       " 'hname': 'Om Nilayam',\n",
       " 'street': 'old mangalagiri',\n",
       " 'location': 'mangalagiri',\n",
       " 'pincode': 522503,\n",
       " 'sId': '20CSE12',\n",
       " 'yoj': '2019',\n",
       " 'branch': 'CSE',\n",
       " 'section': 'A'}"
      ]
     },
     "execution_count": 41,
     "metadata": {},
     "output_type": "execute_result"
    }
   ],
   "source": [
    "s1.get_all_attributes()"
   ]
  },
  {
   "cell_type": "code",
   "execution_count": 42,
   "metadata": {},
   "outputs": [
    {
     "name": "stdout",
     "output_type": "stream",
     "text": [
      "From Student class\n"
     ]
    },
    {
     "data": {
      "text/plain": [
       "{'sId': '20CSE12', 'yoj': '2019', 'branch': 'CSE', 'section': 'A'}"
      ]
     },
     "execution_count": 42,
     "metadata": {},
     "output_type": "execute_result"
    }
   ],
   "source": [
    "s1.get_student_attributes()"
   ]
  },
  {
   "cell_type": "code",
   "execution_count": 43,
   "metadata": {},
   "outputs": [
    {
     "name": "stdout",
     "output_type": "stream",
     "text": [
      "This is starting person class\n",
      "This is end of person class\n"
     ]
    }
   ],
   "source": [
    "class Person:\n",
    "    print(\"This is starting person class\")\n",
    "    def __init__(self,name,age,mobile,aadhar):\n",
    "        print('Person class intializer')\n",
    "        self.name = name\n",
    "        self.age = age\n",
    "        self.mobile = mobile\n",
    "        self.aadhar = aadhar\n",
    "    #\n",
    "\n",
    "    def update_aadhar(self,new_aadhar):\n",
    "        print(\"Inside person class, updating aadhar number\")\n",
    "        self.aadhar = new_aadhar\n",
    "    #\n",
    "\n",
    "    def get_person_attributes(self):\n",
    "        print(\"Getting all person attributes\")\n",
    "        return {'Name':self.name, 'Age':self.age, 'Mobile Number':self.mobile, 'Aadhar':self.aadhar}\n",
    "    #\n",
    "#end of person class\n",
    "\n",
    "print(\"This is end of person class\")"
   ]
  },
  {
   "cell_type": "code",
   "execution_count": 45,
   "metadata": {},
   "outputs": [
    {
     "name": "stdout",
     "output_type": "stream",
     "text": [
      "Person class intializer\n"
     ]
    }
   ],
   "source": [
    "p1= Person(name='gopichand',age=22,mobile='9989158778',aadhar='889944555588')"
   ]
  },
  {
   "cell_type": "code",
   "execution_count": 46,
   "metadata": {},
   "outputs": [
    {
     "name": "stdout",
     "output_type": "stream",
     "text": [
      "Getting all person attributes\n"
     ]
    },
    {
     "data": {
      "text/plain": [
       "{'Name': 'gopichand',\n",
       " 'Age': 22,\n",
       " 'Mobile Number': '9989158778',\n",
       " 'Aadhar': '889944555588'}"
      ]
     },
     "execution_count": 46,
     "metadata": {},
     "output_type": "execute_result"
    }
   ],
   "source": [
    "p1.get_person_attributes()"
   ]
  },
  {
   "cell_type": "code",
   "execution_count": 48,
   "metadata": {},
   "outputs": [
    {
     "name": "stdout",
     "output_type": "stream",
     "text": [
      "p1.__class__\n",
      "p1.__delattr__\n",
      "p1.__dict__\n",
      "p1.__dir__\n",
      "p1.__doc__\n",
      "p1.__eq__\n",
      "p1.__firstlineno__\n",
      "p1.__format__\n",
      "p1.__ge__\n",
      "p1.__getattribute__\n",
      "p1.__getstate__\n",
      "p1.__gt__\n",
      "p1.__hash__\n",
      "p1.__init__\n",
      "p1.__init_subclass__\n",
      "p1.__le__\n",
      "p1.__lt__\n",
      "p1.__module__\n",
      "p1.__ne__\n",
      "p1.__new__\n",
      "p1.__reduce__\n",
      "p1.__reduce_ex__\n",
      "p1.__repr__\n",
      "p1.__setattr__\n",
      "p1.__sizeof__\n",
      "p1.__static_attributes__\n",
      "p1.__str__\n",
      "p1.__subclasshook__\n",
      "p1.__weakref__\n",
      "p1.aadhar\n",
      "p1.age\n",
      "p1.get_person_attributes\n",
      "p1.mobile\n",
      "p1.name\n",
      "p1.update_aadhar"
     ]
    }
   ],
   "source": [
    "p1.*?"
   ]
  },
  {
   "cell_type": "code",
   "execution_count": 71,
   "metadata": {},
   "outputs": [
    {
     "name": "stdout",
     "output_type": "stream",
     "text": [
      "This is Address Class\n"
     ]
    }
   ],
   "source": [
    "class Address:\n",
    "    print('This is Address Class')\n",
    "    def __init__(self,dno,hname,street,location,pincode):\n",
    "        print(\"Address class initializer\")\n",
    "        self.dno = dno\n",
    "        self.hname = hname\n",
    "        self.street = street\n",
    "        self.location = location\n",
    "        self.pincode = pincode\n",
    "    #\n",
    "\n",
    "    def set_location(self, new_location):\n",
    "        print(\"Inside Address class, updating location\")\n",
    "        self.location = new_location\n",
    "    #\n",
    "\n",
    "    def get_address_attributes(self):\n",
    "        print(\"Getting Address attribute values\")\n",
    "        # return [self.dno, self.hname, self.street, self.location, self.pincode]\n",
    "        return {\"dno\": self.dno, \"hname\":self.hname, \"street\": self.street, \"location\":self.location, \"pincode\": self.pincode}\n",
    "    #"
   ]
  },
  {
   "cell_type": "code",
   "execution_count": 72,
   "metadata": {},
   "outputs": [
    {
     "name": "stdout",
     "output_type": "stream",
     "text": [
      "Address class initializer\n"
     ]
    }
   ],
   "source": [
    "addr1 = Address(\n",
    "    dno=\"12-2-2\",\n",
    "    hname=\"Om Nilayam\",\n",
    "    street=\"old mangalagiri\",\n",
    "    location=\"mangalgiri\",\n",
    "    pincode=520012,\n",
    ")"
   ]
  },
  {
   "cell_type": "code",
   "execution_count": 73,
   "metadata": {},
   "outputs": [
    {
     "name": "stdout",
     "output_type": "stream",
     "text": [
      "addr1.__class__\n",
      "addr1.__delattr__\n",
      "addr1.__dict__\n",
      "addr1.__dir__\n",
      "addr1.__doc__\n",
      "addr1.__eq__\n",
      "addr1.__firstlineno__\n",
      "addr1.__format__\n",
      "addr1.__ge__\n",
      "addr1.__getattribute__\n",
      "addr1.__getstate__\n",
      "addr1.__gt__\n",
      "addr1.__hash__\n",
      "addr1.__init__\n",
      "addr1.__init_subclass__\n",
      "addr1.__le__\n",
      "addr1.__lt__\n",
      "addr1.__module__\n",
      "addr1.__ne__\n",
      "addr1.__new__\n",
      "addr1.__reduce__\n",
      "addr1.__reduce_ex__\n",
      "addr1.__repr__\n",
      "addr1.__setattr__\n",
      "addr1.__sizeof__\n",
      "addr1.__static_attributes__\n",
      "addr1.__str__\n",
      "addr1.__subclasshook__\n",
      "addr1.__weakref__\n",
      "addr1.dno\n",
      "addr1.get_address_attributes\n",
      "addr1.hname\n",
      "addr1.location\n",
      "addr1.pincode\n",
      "addr1.set_location\n",
      "addr1.street"
     ]
    }
   ],
   "source": [
    "addr1.*?"
   ]
  },
  {
   "cell_type": "code",
   "execution_count": 74,
   "metadata": {},
   "outputs": [
    {
     "name": "stdout",
     "output_type": "stream",
     "text": [
      "Getting Address attribute values\n"
     ]
    },
    {
     "data": {
      "text/plain": [
       "{'dno': '12-2-2',\n",
       " 'hname': 'Om Nilayam',\n",
       " 'street': 'old mangalagiri',\n",
       " 'location': 'mangalgiri',\n",
       " 'pincode': 520012}"
      ]
     },
     "execution_count": 74,
     "metadata": {},
     "output_type": "execute_result"
    }
   ],
   "source": [
    "addr1.get_address_attributes()"
   ]
  },
  {
   "cell_type": "code",
   "execution_count": 75,
   "metadata": {},
   "outputs": [
    {
     "name": "stdout",
     "output_type": "stream",
     "text": [
      "Getting Address attribute values\n"
     ]
    },
    {
     "data": {
      "text/plain": [
       "{'dno': '12-2-2',\n",
       " 'hname': 'Om Nilayam',\n",
       " 'street': 'old mangalagiri',\n",
       " 'location': 'mangalgiri',\n",
       " 'pincode': 520012}"
      ]
     },
     "execution_count": 75,
     "metadata": {},
     "output_type": "execute_result"
    }
   ],
   "source": [
    "addr1.get_address_attributes()"
   ]
  },
  {
   "cell_type": "code",
   "execution_count": 76,
   "metadata": {},
   "outputs": [
    {
     "name": "stdout",
     "output_type": "stream",
     "text": [
      "Inside Address class, updating location\n"
     ]
    }
   ],
   "source": [
    "addr1.set_location('vijayawada')"
   ]
  },
  {
   "cell_type": "code",
   "execution_count": 77,
   "metadata": {},
   "outputs": [
    {
     "name": "stdout",
     "output_type": "stream",
     "text": [
      "Getting Address attribute values\n"
     ]
    },
    {
     "data": {
      "text/plain": [
       "{'dno': '12-2-2',\n",
       " 'hname': 'Om Nilayam',\n",
       " 'street': 'old mangalagiri',\n",
       " 'location': 'vijayawada',\n",
       " 'pincode': 520012}"
      ]
     },
     "execution_count": 77,
     "metadata": {},
     "output_type": "execute_result"
    }
   ],
   "source": [
    "addr1.get_address_attributes()"
   ]
  },
  {
   "cell_type": "markdown",
   "metadata": {},
   "source": [
    "### Multiple-Inheritance Continued"
   ]
  },
  {
   "cell_type": "code",
   "execution_count": 93,
   "metadata": {},
   "outputs": [
    {
     "name": "stdout",
     "output_type": "stream",
     "text": [
      "this end of student class\n"
     ]
    }
   ],
   "source": [
    "class Student(Person, Address):\n",
    "    def __init__(self,name,age,mobile,aadhar,dno,hname,street,location,pincode,sId,yoj,branch,section):\n",
    "        print(\"Inside Student class initializer\")\n",
    "        super().__init__(name,age,mobile,aadhar)  # \n",
    "        # Person.__init__(self,name,age,mobile,aadhar)\n",
    "        Address.__init__(self,dno,hname,street,location,pincode)\n",
    "        #\n",
    "        print(\"Creating attributes in Student class\")\n",
    "        self.sId = sId\n",
    "        self.yoj = yoj\n",
    "        self.branch = branch\n",
    "        self.section = section\n",
    "        print(\"Leaving from Student class initializer\")   \n",
    "    #\n",
    "\n",
    "    def get_student_attributes(self):\n",
    "        print(\"Getting Student attributes\")\n",
    "        return {\"sId\": self.sId, \"yoj\":self.yoj, \"branch\":self.branch, \"section\": self.section}\n",
    "    \n",
    "\n",
    "    def get_all_attributes(self):\n",
    "        person_attr_dict = self.get_person_attributes()\n",
    "        addr_attr_dict = self.get_address_attributes()\n",
    "        std_attr_dict = self.get_student_attributes()\n",
    "        return {**person_attr_dict, **addr_attr_dict, **std_attr_dict}  # Merging all attributes\n",
    "    #\n",
    "print(\"this end of student class\")"
   ]
  },
  {
   "cell_type": "code",
   "execution_count": 80,
   "metadata": {},
   "outputs": [
    {
     "name": "stdout",
     "output_type": "stream",
     "text": [
      "Inside Student class initializer\n",
      "Person class intializer\n",
      "Address class initializer\n",
      "Creating attributes in Student class\n",
      "Leaving from Student class initializer\n"
     ]
    }
   ],
   "source": [
    "std1 = Student(\n",
    "    name=\"Krishna\",\n",
    "    age=19,\n",
    "    mobile=\"7878787878\",\n",
    "    aadhar=\"123456789012\",\n",
    "    dno=\"12-2-2\",\n",
    "    hname=\"Om Nilayam\",\n",
    "    street=\"Sri nagar\",\n",
    "    location=\"Vijayawada\",\n",
    "    pincode=520012,\n",
    "    sId=\"20CSE12\",\n",
    "    yoj=\"2019\",\n",
    "    branch=\"CSE\",\n",
    "    section=\"B\"\n",
    ")"
   ]
  },
  {
   "cell_type": "code",
   "execution_count": 81,
   "metadata": {},
   "outputs": [
    {
     "name": "stdout",
     "output_type": "stream",
     "text": [
      "std1.__class__\n",
      "std1.__delattr__\n",
      "std1.__dict__\n",
      "std1.__dir__\n",
      "std1.__doc__\n",
      "std1.__eq__\n",
      "std1.__firstlineno__\n",
      "std1.__format__\n",
      "std1.__ge__\n",
      "std1.__getattribute__\n",
      "std1.__getstate__\n",
      "std1.__gt__\n",
      "std1.__hash__\n",
      "std1.__init__\n",
      "std1.__init_subclass__\n",
      "std1.__le__\n",
      "std1.__lt__\n",
      "std1.__module__\n",
      "std1.__ne__\n",
      "std1.__new__\n",
      "std1.__reduce__\n",
      "std1.__reduce_ex__\n",
      "std1.__repr__\n",
      "std1.__setattr__\n",
      "std1.__sizeof__\n",
      "std1.__static_attributes__\n",
      "std1.__str__\n",
      "std1.__subclasshook__\n",
      "std1.__weakref__\n",
      "std1.aadhar\n",
      "std1.age\n",
      "std1.branch\n",
      "std1.dno\n",
      "std1.get_address_attributes\n",
      "std1.get_all_attributes\n",
      "std1.get_person_attributes\n",
      "std1.get_student_attributes\n",
      "std1.hname\n",
      "std1.location\n",
      "std1.mobile\n",
      "std1.name\n",
      "std1.pincode\n",
      "std1.sId\n",
      "std1.section\n",
      "std1.set_location\n",
      "std1.street\n",
      "std1.update_aadhar\n",
      "std1.yoj"
     ]
    }
   ],
   "source": [
    "std1.*?"
   ]
  },
  {
   "cell_type": "code",
   "execution_count": 82,
   "metadata": {},
   "outputs": [
    {
     "name": "stdout",
     "output_type": "stream",
     "text": [
      "Getting Student attributes\n"
     ]
    },
    {
     "data": {
      "text/plain": [
       "{'sId': '20CSE12', 'yoj': '2019', 'branch': 'CSE', 'section': 'B'}"
      ]
     },
     "execution_count": 82,
     "metadata": {},
     "output_type": "execute_result"
    }
   ],
   "source": [
    "std1.get_student_attributes()"
   ]
  },
  {
   "cell_type": "code",
   "execution_count": 83,
   "metadata": {},
   "outputs": [
    {
     "name": "stdout",
     "output_type": "stream",
     "text": [
      "Getting all person attributes\n"
     ]
    },
    {
     "data": {
      "text/plain": [
       "{'Name': 'Krishna',\n",
       " 'Age': 19,\n",
       " 'Mobile Number': '7878787878',\n",
       " 'Aadhar': '123456789012'}"
      ]
     },
     "execution_count": 83,
     "metadata": {},
     "output_type": "execute_result"
    }
   ],
   "source": [
    "std1.get_person_attributes()"
   ]
  },
  {
   "cell_type": "code",
   "execution_count": 84,
   "metadata": {},
   "outputs": [
    {
     "name": "stdout",
     "output_type": "stream",
     "text": [
      "Getting Address attribute values\n"
     ]
    },
    {
     "data": {
      "text/plain": [
       "{'dno': '12-2-2',\n",
       " 'hname': 'Om Nilayam',\n",
       " 'street': 'Sri nagar',\n",
       " 'location': 'Vijayawada',\n",
       " 'pincode': 520012}"
      ]
     },
     "execution_count": 84,
     "metadata": {},
     "output_type": "execute_result"
    }
   ],
   "source": [
    "std1.get_address_attributes()"
   ]
  },
  {
   "cell_type": "code",
   "execution_count": 96,
   "metadata": {},
   "outputs": [],
   "source": [
    "#std1.get_all_attributes()   # need_check"
   ]
  },
  {
   "cell_type": "code",
   "execution_count": 97,
   "metadata": {},
   "outputs": [
    {
     "name": "stdout",
     "output_type": "stream",
     "text": [
      "Person class\n"
     ]
    }
   ],
   "source": [
    "class Person:\n",
    "    print(\"Person class\")\n",
    "    def __init__(self,name,age):\n",
    "        print(\"Person class initializer\")\n",
    "        self.name = name\n",
    "        self.age = age\n",
    "    \n",
    "    def update_name(self,new_name):\n",
    "        print(\"Person class: update_name function\")\n",
    "        self.name = new_name\n",
    "\n",
    "    def update_age(self,new_age):\n",
    "        print(\"Person class: update_age function\")\n",
    "        self.age = new_age\n",
    "\n",
    "    def get_attributes(self):\n",
    "        print(\"Person class: get_attributes function\")\n",
    "        return {\"name\": self.name, \"age\": self.age}"
   ]
  },
  {
   "cell_type": "code",
   "execution_count": 98,
   "metadata": {},
   "outputs": [
    {
     "name": "stdout",
     "output_type": "stream",
     "text": [
      "Address class\n"
     ]
    }
   ],
   "source": [
    "class Address:\n",
    "    print(\"Address class\")\n",
    "    def __init__(self,plotno,street,pincode):\n",
    "        print(\"Address class intializer\")\n",
    "        self.plotno = plotno\n",
    "        self.street = street\n",
    "        self.pincode = pincode\n",
    "\n",
    "    def get_attributes(self):\n",
    "        print(\"Address class: get_attributes function\")\n",
    "        return {\"plotno\": self.plotno, \"street\": self.street, \"pincode\": self.pincode}"
   ]
  },
  {
   "cell_type": "code",
   "execution_count": 99,
   "metadata": {},
   "outputs": [
    {
     "name": "stdout",
     "output_type": "stream",
     "text": [
      "Student class\n"
     ]
    }
   ],
   "source": [
    "#Child\n",
    "class Student(Person, Address):\n",
    "    print(\"Student class\")\n",
    "    def __init__(self,name,age,plotno,street,pincode,sId,section):\n",
    "        print(\"Student class initializer\")\n",
    "        # To initialize Person class attributes\n",
    "        Person.__init__(self,name,age)\n",
    "        # To initialize Address class attributes\n",
    "        Address.__init__(self,plotno,street,pincode)\n",
    "        # Student class Attributes\n",
    "        self.sId = sId\n",
    "        self.section = section\n",
    "\n",
    "    def get_attributes(self):\n",
    "        print(\"Student class: get_attributes function\")\n",
    "        return {\"sId\": self.sId, \"section\": self.section}\n",
    "\n",
    "    def get_all_attributes(self):\n",
    "        print(\"Student class: get_all_attributes function\")\n",
    "        return {\"name\": self.name, \"age\": self.age, \"plotno\": self.plotno, \"street\": self.street, \"pincode\": self.pincode, \"sId\": self.sId, \"section\": self.section}\n",
    "#"
   ]
  },
  {
   "cell_type": "code",
   "execution_count": 100,
   "metadata": {},
   "outputs": [
    {
     "name": "stdout",
     "output_type": "stream",
     "text": [
      "Student class initializer\n",
      "Person class initializer\n",
      "Address class intializer\n"
     ]
    }
   ],
   "source": [
    "s1 = Student(\n",
    "    name=\"Krishna\",\n",
    "    age=19,\n",
    "    plotno=\"12-2-2\",\n",
    "    street=\"Sri nagar\",\n",
    "    pincode=520012,\n",
    "    sId=\"2019CSE0012\",\n",
    "    section=\"B\"\n",
    ")"
   ]
  },
  {
   "cell_type": "code",
   "execution_count": 101,
   "metadata": {},
   "outputs": [
    {
     "name": "stdout",
     "output_type": "stream",
     "text": [
      "Student class: get_attributes function\n"
     ]
    },
    {
     "data": {
      "text/plain": [
       "{'sId': '2019CSE0012', 'section': 'B'}"
      ]
     },
     "execution_count": 101,
     "metadata": {},
     "output_type": "execute_result"
    }
   ],
   "source": [
    "s1.get_attributes()"
   ]
  },
  {
   "cell_type": "code",
   "execution_count": 102,
   "metadata": {},
   "outputs": [
    {
     "name": "stdout",
     "output_type": "stream",
     "text": [
      "Student class: get_all_attributes function\n"
     ]
    },
    {
     "data": {
      "text/plain": [
       "{'name': 'Krishna',\n",
       " 'age': 19,\n",
       " 'plotno': '12-2-2',\n",
       " 'street': 'Sri nagar',\n",
       " 'pincode': 520012,\n",
       " 'sId': '2019CSE0012',\n",
       " 'section': 'B'}"
      ]
     },
     "execution_count": 102,
     "metadata": {},
     "output_type": "execute_result"
    }
   ],
   "source": [
    "s1.get_all_attributes()"
   ]
  },
  {
   "cell_type": "code",
   "execution_count": 103,
   "metadata": {},
   "outputs": [
    {
     "name": "stdout",
     "output_type": "stream",
     "text": [
      "Person class: get_attributes function\n"
     ]
    },
    {
     "data": {
      "text/plain": [
       "{'name': 'Krishna', 'age': 19}"
      ]
     },
     "execution_count": 103,
     "metadata": {},
     "output_type": "execute_result"
    }
   ],
   "source": [
    "Person.get_attributes(s1)"
   ]
  },
  {
   "cell_type": "code",
   "execution_count": 104,
   "metadata": {},
   "outputs": [
    {
     "name": "stdout",
     "output_type": "stream",
     "text": [
      "Address class: get_attributes function\n"
     ]
    },
    {
     "data": {
      "text/plain": [
       "{'plotno': '12-2-2', 'street': 'Sri nagar', 'pincode': 520012}"
      ]
     },
     "execution_count": 104,
     "metadata": {},
     "output_type": "execute_result"
    }
   ],
   "source": [
    "Address.get_attributes(s1)"
   ]
  },
  {
   "cell_type": "code",
   "execution_count": null,
   "metadata": {},
   "outputs": [],
   "source": []
  }
 ],
 "metadata": {
  "kernelspec": {
   "display_name": "Python 3",
   "language": "python",
   "name": "python3"
  },
  "language_info": {
   "codemirror_mode": {
    "name": "ipython",
    "version": 3
   },
   "file_extension": ".py",
   "mimetype": "text/x-python",
   "name": "python",
   "nbconvert_exporter": "python",
   "pygments_lexer": "ipython3",
   "version": "3.13.1"
  }
 },
 "nbformat": 4,
 "nbformat_minor": 2
}
