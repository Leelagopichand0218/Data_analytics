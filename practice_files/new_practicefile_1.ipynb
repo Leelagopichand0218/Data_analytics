{
 "cells": [
  {
   "cell_type": "markdown",
   "metadata": {},
   "source": [
    "# Enumerate"
   ]
  },
  {
   "cell_type": "code",
   "execution_count": 2,
   "metadata": {},
   "outputs": [
    {
     "name": "stdout",
     "output_type": "stream",
     "text": [
      "Leela Gopichand\n"
     ]
    }
   ],
   "source": [
    "print(\"Leela Gopichand\")"
   ]
  },
  {
   "cell_type": "code",
   "execution_count": 1,
   "metadata": {},
   "outputs": [],
   "source": [
    "a = list(range(11,21))"
   ]
  },
  {
   "cell_type": "code",
   "execution_count": 2,
   "metadata": {},
   "outputs": [
    {
     "data": {
      "text/plain": [
       "[11, 12, 13, 14, 15, 16, 17, 18, 19, 20]"
      ]
     },
     "execution_count": 2,
     "metadata": {},
     "output_type": "execute_result"
    }
   ],
   "source": [
    "a"
   ]
  },
  {
   "cell_type": "code",
   "execution_count": 8,
   "metadata": {},
   "outputs": [
    {
     "data": {
      "text/plain": [
       "10"
      ]
     },
     "execution_count": 8,
     "metadata": {},
     "output_type": "execute_result"
    }
   ],
   "source": [
    "len(a)"
   ]
  },
  {
   "cell_type": "code",
   "execution_count": 14,
   "metadata": {},
   "outputs": [
    {
     "name": "stdout",
     "output_type": "stream",
     "text": [
      "0\n",
      "iteration: 1\n",
      "1\n",
      "iteration: 2\n",
      "2\n",
      "iteration: 3\n",
      "3\n",
      "iteration: 4\n",
      "4\n",
      "iteration: 5\n",
      "5\n",
      "iteration: 6\n",
      "6\n",
      "iteration: 7\n",
      "7\n",
      "iteration: 8\n",
      "8\n",
      "iteration: 9\n",
      "9\n",
      "iteration: 10\n"
     ]
    }
   ],
   "source": [
    "i = 0\n",
    "while i < len(a):\n",
    "    print(i)\n",
    "    #print(a[i])\n",
    "    i = i+1\n",
    "    print(f\"iteration: {i}\")"
   ]
  },
  {
   "cell_type": "code",
   "execution_count": 15,
   "metadata": {},
   "outputs": [
    {
     "data": {
      "text/plain": [
       "[11, 12, 13, 14, 15, 16, 17, 18, 19, 20]"
      ]
     },
     "execution_count": 15,
     "metadata": {},
     "output_type": "execute_result"
    }
   ],
   "source": [
    "a"
   ]
  },
  {
   "cell_type": "code",
   "execution_count": 34,
   "metadata": {},
   "outputs": [
    {
     "name": "stdout",
     "output_type": "stream",
     "text": [
      "0\n",
      "11\n",
      "iteration: 1\n",
      "1\n",
      "12\n",
      "iteration: 2\n",
      "2\n",
      "13\n",
      "iteration: 3\n",
      "3\n",
      "14\n",
      "iteration: 4\n",
      "4\n",
      "15\n",
      "iteration: 5\n",
      "5\n",
      "16\n",
      "iteration: 6\n",
      "6\n",
      "17\n",
      "iteration: 7\n",
      "7\n",
      "18\n",
      "iteration: 8\n",
      "8\n",
      "19\n",
      "iteration: 9\n",
      "9\n",
      "20\n",
      "iteration: 10\n"
     ]
    }
   ],
   "source": [
    "i = 0\n",
    "for item in a:\n",
    "    print(i)\n",
    "    i = i+1\n",
    "    print(item)\n",
    "    print(f\"iteration: {i}\")"
   ]
  },
  {
   "cell_type": "code",
   "execution_count": 35,
   "metadata": {},
   "outputs": [
    {
     "name": "stdout",
     "output_type": "stream",
     "text": [
      "0 11\n",
      "1 12\n",
      "2 13\n",
      "3 14\n",
      "4 15\n",
      "5 16\n",
      "6 17\n",
      "7 18\n",
      "8 19\n",
      "9 20\n"
     ]
    }
   ],
   "source": [
    "for index, item in enumerate(a):\n",
    "    print(index, item)"
   ]
  },
  {
   "cell_type": "code",
   "execution_count": 36,
   "metadata": {},
   "outputs": [],
   "source": [
    "b = (21, 22, 23, 24, 25, 26, 27, 28, 29, 30)"
   ]
  },
  {
   "cell_type": "code",
   "execution_count": 37,
   "metadata": {},
   "outputs": [
    {
     "name": "stdout",
     "output_type": "stream",
     "text": [
      "0 21\n",
      "1 22\n",
      "2 23\n",
      "3 24\n",
      "4 25\n",
      "5 26\n",
      "6 27\n",
      "7 28\n",
      "8 29\n",
      "9 30\n"
     ]
    }
   ],
   "source": [
    "for index, item in enumerate(b):\n",
    "    print(index, item)"
   ]
  },
  {
   "cell_type": "code",
   "execution_count": 42,
   "metadata": {},
   "outputs": [],
   "source": [
    "c = 'Gopi chand'"
   ]
  },
  {
   "cell_type": "code",
   "execution_count": 43,
   "metadata": {},
   "outputs": [
    {
     "name": "stdout",
     "output_type": "stream",
     "text": [
      "0 G\n",
      "1 o\n",
      "2 p\n",
      "3 i\n",
      "4  \n",
      "5 c\n",
      "6 h\n",
      "7 a\n",
      "8 n\n",
      "9 d\n"
     ]
    }
   ],
   "source": [
    "for index, item in enumerate(c):\n",
    "    print(index, item)"
   ]
  },
  {
   "cell_type": "code",
   "execution_count": 45,
   "metadata": {},
   "outputs": [
    {
     "data": {
      "text/plain": [
       "{'a': 10, 'b': 20, 'c': 30, 'd': 40, 'e': 50, 'f': 60}"
      ]
     },
     "execution_count": 45,
     "metadata": {},
     "output_type": "execute_result"
    }
   ],
   "source": [
    "l = {'a':10, 'b':20, 'c':30, 'd':40, 'e':50, 'f':60}\n",
    "l"
   ]
  },
  {
   "cell_type": "code",
   "execution_count": 51,
   "metadata": {},
   "outputs": [
    {
     "name": "stdout",
     "output_type": "stream",
     "text": [
      "a\n",
      "b\n",
      "c\n",
      "d\n",
      "e\n",
      "f\n"
     ]
    }
   ],
   "source": [
    "for item in l:\n",
    "    print(item)"
   ]
  },
  {
   "cell_type": "code",
   "execution_count": 52,
   "metadata": {},
   "outputs": [
    {
     "data": {
      "text/plain": [
       "dict_items([('a', 10), ('b', 20), ('c', 30), ('d', 40), ('e', 50), ('f', 60)])"
      ]
     },
     "execution_count": 52,
     "metadata": {},
     "output_type": "execute_result"
    }
   ],
   "source": [
    "l.items()"
   ]
  },
  {
   "cell_type": "code",
   "execution_count": 53,
   "metadata": {},
   "outputs": [
    {
     "name": "stdout",
     "output_type": "stream",
     "text": [
      "a 10\n",
      "b 20\n",
      "c 30\n",
      "d 40\n",
      "e 50\n",
      "f 60\n"
     ]
    }
   ],
   "source": [
    "for key,value in l.items():\n",
    "    print(key,value)"
   ]
  },
  {
   "cell_type": "code",
   "execution_count": 54,
   "metadata": {},
   "outputs": [
    {
     "name": "stdout",
     "output_type": "stream",
     "text": [
      "0 a 10\n",
      "1 b 20\n",
      "2 c 30\n",
      "3 d 40\n",
      "4 e 50\n",
      "5 f 60\n"
     ]
    }
   ],
   "source": [
    "for index, (key, value) in enumerate(l.items()):\n",
    "    print(index, key, value)"
   ]
  },
  {
   "cell_type": "code",
   "execution_count": 1,
   "metadata": {},
   "outputs": [],
   "source": [
    "my_var = 10"
   ]
  },
  {
   "cell_type": "code",
   "execution_count": 4,
   "metadata": {},
   "outputs": [],
   "source": [
    "input_string = \"Do not stop when you are tired stop when you are done\"\n",
    "words = input_string.split()"
   ]
  },
  {
   "cell_type": "code",
   "execution_count": 5,
   "metadata": {},
   "outputs": [
    {
     "data": {
      "text/plain": [
       "'Do not stop when you are tired stop when you are done'"
      ]
     },
     "execution_count": 5,
     "metadata": {},
     "output_type": "execute_result"
    }
   ],
   "source": [
    "input_string"
   ]
  },
  {
   "cell_type": "code",
   "execution_count": 14,
   "metadata": {},
   "outputs": [
    {
     "name": "stdout",
     "output_type": "stream",
     "text": [
      "{2: 1, 3: 5, 4: 5, 5: 1}\n"
     ]
    }
   ],
   "source": [
    "input_string = \"Do not stop when you are tired stop when you are done\"\n",
    "words = input_string.split()\n",
    "\n",
    "output_dict = {}\n",
    "\n",
    "for i in words:\n",
    "    length = len(i)\n",
    "    if length in output_dict:\n",
    "        output_dict[length] += 1\n",
    "    else:\n",
    "        output_dict[length] = 1\n",
    "\n",
    "print(output_dict)"
   ]
  },
  {
   "cell_type": "code",
   "execution_count": null,
   "metadata": {},
   "outputs": [],
   "source": []
  }
 ],
 "metadata": {
  "kernelspec": {
   "display_name": "Python 3",
   "language": "python",
   "name": "python3"
  },
  "language_info": {
   "codemirror_mode": {
    "name": "ipython",
    "version": 3
   },
   "file_extension": ".py",
   "mimetype": "text/x-python",
   "name": "python",
   "nbconvert_exporter": "python",
   "pygments_lexer": "ipython3",
   "version": "3.13.1"
  }
 },
 "nbformat": 4,
 "nbformat_minor": 2
}
